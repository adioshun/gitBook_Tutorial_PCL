{
 "cells": [
  {
   "cell_type": "markdown",
   "metadata": {},
   "source": [
    "## Statistical Outlier Removal filter\n",
    "\n",
    "본 챕터에서는 Noise 제거 방법 중 하나인 Statistical Outlier Removal filter에 대하여 다루고 있습니다. \n",
    "\n",
    "자세한 내용은 [Removing outliers using a Statistical OutlierRemoval filter](http://pointclouds.org/documentation/tutorials/statistical_outlier.php#statistical-outlier-removal)를 참고 하시면 됩니다.  "
   ]
  },
  {
   "cell_type": "code",
   "execution_count": 36,
   "metadata": {},
   "outputs": [
    {
     "name": "stdout",
     "output_type": "stream",
     "text": [
      "The watermark extension is already loaded. To reload it, use:\n",
      "  %reload_ext watermark\n",
      "2018-11-23 \n",
      "\n",
      "CPython 3.5.2\n",
      "IPython 6.4.0\n",
      "\n",
      "pcl unknown\n",
      "numpy 1.14.5\n"
     ]
    }
   ],
   "source": [
    "%load_ext watermark\n",
    "%watermark -d -v -p pcl,numpy"
   ]
  },
  {
   "cell_type": "code",
   "execution_count": 11,
   "metadata": {},
   "outputs": [],
   "source": [
    "# -*- coding: utf-8 -*-\n",
    "from __future__ import print_function\n",
    "import pcl\n",
    "import numpy as np\n",
    "import random\n",
    "\n",
    "import os\n",
    "os.chdir(\"/workspace/3D_People_Detection_Tracking\") "
   ]
  },
  {
   "cell_type": "code",
   "execution_count": 17,
   "metadata": {},
   "outputs": [],
   "source": [
    "from include.visualization_helper import *\n",
    "%matplotlib inline"
   ]
  },
  {
   "cell_type": "markdown",
   "metadata": {},
   "source": [
    "## do_statistical_outlier_filtering 정의\n",
    "\n",
    "입력 \n",
    "- pcl_data : point cloud\n",
    "- mean_k : 분석시 참고할 주변 점의 수\n",
    "- tresh : Noise로 판단시 사용할 거리 정보\n",
    "\n",
    "출력  \n",
    "- point cloud"
   ]
  },
  {
   "cell_type": "code",
   "execution_count": 12,
   "metadata": {},
   "outputs": [],
   "source": [
    "def do_statistical_outlier_filtering(pcl_data,mean_k,tresh):\n",
    "    '''\n",
    "    :param pcl_data: point could data subscriber\n",
    "    :param mean_k:  number of neighboring points to analyze for any given point\n",
    "    :param tresh:   Any point with a mean distance larger than global will be considered outlier\n",
    "    :return: Statistical outlier filtered point cloud data\n",
    "    eg) cloud = do_statistical_outlier_filtering(cloud,10,0.001)\n",
    "    : https://github.com/fouliex/RoboticPerception\n",
    "    '''\n",
    "    outlier_filter = pcl_data.make_statistical_outlier_filter()\n",
    "    outlier_filter.set_mean_k(mean_k)\n",
    "    outlier_filter.set_std_dev_mul_thresh(tresh)\n",
    "    return outlier_filter.filter()\n"
   ]
  },
  {
   "cell_type": "markdown",
   "metadata": {},
   "source": [
    "## 랜덤 Point Cloud 생성"
   ]
  },
  {
   "cell_type": "code",
   "execution_count": 29,
   "metadata": {},
   "outputs": [],
   "source": [
    "cloud = pcl.PointCloud()\n",
    "\n",
    "points = np.zeros((5, 3), dtype=np.float32)\n",
    "RAND_MAX = 1024.0\n",
    "for i in range(0, 5):\n",
    "    points[i][0] = 1024 * random.random () / RAND_MAX\n",
    "    points[i][1] = 1024 * random.random () / RAND_MAX\n",
    "    points[i][2] = 1024 * random.random () / RAND_MAX\n",
    "\n",
    "cloud.from_array(points)"
   ]
  },
  {
   "cell_type": "code",
   "execution_count": 27,
   "metadata": {},
   "outputs": [
    {
     "name": "stdout",
     "output_type": "stream",
     "text": [
      "Number of Points : 5\n",
      "x: 0.47851642966270447, y : 0.03497461602091789, z : 0.535773754119873\n",
      "x: 0.3981524109840393, y : 0.1518072634935379, z : 0.09672793000936508\n",
      "x: 0.7707034349441528, y : 0.07869423180818558, z : 0.6807618141174316\n",
      "x: 0.13448742032051086, y : 0.6192044019699097, z : 0.35335949063301086\n",
      "x: 0.5647233724594116, y : 0.20890095829963684, z : 0.6382982134819031\n",
      "(x) : 0.6m\n",
      "(y) : 0.6m\n",
      "(z) : 0.6m\n"
     ]
    },
    {
     "data": {
      "image/png": "[encoded data removed]",
      "text/plain": [
       "<Figure size 1008x432 with 1 Axes>"
      ]
     },
     "metadata": {},
     "output_type": "display_data"
    }
   ],
   "source": [
    "print(\"Number of Points : {}\".format(cloud.size))\n",
    "for i in range(0, cloud.size):\n",
    "    print ('x: '  + str(cloud[i][0]) + ', y : ' + str(cloud[i][1])  + ', z : ' + str(cloud[i][2]))\n",
    "\n",
    "if (cloud.size!=0):\n",
    "    visualization2D_xyz(cloud.to_array())    "
   ]
  },
  {
   "cell_type": "markdown",
   "metadata": {},
   "source": [
    "## do_statistical_outlier_filtering 수행"
   ]
  },
  {
   "cell_type": "code",
   "execution_count": 14,
   "metadata": {},
   "outputs": [],
   "source": [
    "mean_k = 10\n",
    "tresh = 0.001"
   ]
  },
  {
   "cell_type": "code",
   "execution_count": 30,
   "metadata": {},
   "outputs": [],
   "source": [
    "cloud = do_statistical_outlier_filtering(cloud,mean_k,tresh)"
   ]
  },
  {
   "cell_type": "code",
   "execution_count": 31,
   "metadata": {},
   "outputs": [
    {
     "name": "stdout",
     "output_type": "stream",
     "text": [
      "Number of Points : 2\n",
      "x: 0.8091028332710266, y : 0.8478883504867554, z : 0.9810506701469421\n",
      "x: 0.7552645802497864, y : 0.975726842880249, z : 0.8663910627365112\n",
      "(x) : 0.1m\n",
      "(y) : 0.1m\n",
      "(z) : 0.1m\n"
     ]
    },
    {
     "data": {
      "image/png": "[encoded data removed]",
      "text/plain": [
       "<Figure size 1008x432 with 1 Axes>"
      ]
     },
     "metadata": {},
     "output_type": "display_data"
    }
   ],
   "source": [
    "print(\"Number of Points : {}\".format(cloud.size))\n",
    "for i in range(0, cloud.size):\n",
    "    print ('x: '  + str(cloud[i][0]) + ', y : ' + str(cloud[i][1])  + ', z : ' + str(cloud[i][2]))\n",
    "\n",
    "if (cloud.size!=0):\n",
    "    visualization2D_xyz(cloud.to_array())    "
   ]
  }
 ],
 "metadata": {
  "kernelspec": {
   "display_name": "Python 2",
   "language": "python",
   "name": "python2"
  },
  "language_info": {
   "codemirror_mode": {
    "name": "ipython",
    "version": 2
   },
   "file_extension": ".py",
   "mimetype": "text/x-python",
   "name": "python",
   "nbconvert_exporter": "python",
   "pygments_lexer": "ipython2",
   "version": "2.7.12"
  },
  "toc": {
   "base_numbering": 1,
   "nav_menu": {},
   "number_sections": true,
   "sideBar": true,
   "skip_h1_title": false,
   "title_cell": "Table of Contents",
   "title_sidebar": "Contents",
   "toc_cell": false,
   "toc_position": {},
   "toc_section_display": true,
   "toc_window_display": false
  },
  "varInspector": {
   "cols": {
    "lenName": 16,
    "lenType": 16,
    "lenVar": 40
   },
   "kernels_config": {
    "python": {
     "delete_cmd_postfix": "",
     "delete_cmd_prefix": "del ",
     "library": "var_list.py",
     "varRefreshCmd": "print(var_dic_list())"
    },
    "r": {
     "delete_cmd_postfix": ") ",
     "delete_cmd_prefix": "rm(",
     "library": "var_list.r",
     "varRefreshCmd": "cat(var_dic_list()) "
    }
   },
   "types_to_exclude": [
    "module",
    "function",
    "builtin_function_or_method",
    "instance",
    "_Feature"
   ],
   "window_display": false
  }
 },
 "nbformat": 4,
 "nbformat_minor": 2
}
