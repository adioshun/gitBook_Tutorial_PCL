{
 "cells": [
  {
   "cell_type": "markdown",
   "metadata": {},
   "source": [
    "## PyPCD\n",
    "- 본 챕터에서는 [pypcd](https://github.com/dimatura/pypcd)의 기본적인 파일 입력, Numpy변환, 저장 방법에 대하여 정리 하였습니다. \n",
    "\n",
    "- pypcd는 **Point Cloud Library**에 기반한 PCD파일 읽기/쓰기가 가능한 Pure Python module 입니다. \n",
    "- 특징으로는 ROS 메시지 전송을 지원 합니다. \n",
    "\n",
    "> [PCL-To-All Docker](https://hub.docker.com/r/adioshun/pcl_to_all/)에는 설치 되어 있지 않습니다."
   ]
  },
  {
   "cell_type": "code",
   "execution_count": 1,
   "metadata": {},
   "outputs": [
    {
     "name": "stdout",
     "output_type": "stream",
     "text": [
      "2018-11-23 \n",
      "\n",
      "CPython 2.7.12\n",
      "IPython 5.8.0\n",
      "\n",
      "pypcd 0.1.1\n"
     ]
    }
   ],
   "source": [
    "%load_ext watermark\n",
    "%watermark -d -v -p pypcd"
   ]
  },
  {
   "cell_type": "code",
   "execution_count": 2,
   "metadata": {},
   "outputs": [
    {
     "name": "stdout",
     "output_type": "stream",
     "text": [
      "Requirement already satisfied: pypcd in /usr/local/lib/python2.7/dist-packages\n",
      "Requirement already satisfied: python-lzf in /usr/local/lib/python2.7/dist-packages (from pypcd)\n",
      "Requirement already satisfied: numpy in /usr/local/lib/python2.7/dist-packages (from pypcd)\n",
      "\u001b[33mYou are using pip version 9.0.1, however version 18.1 is available.\n",
      "You should consider upgrading via the 'pip install --upgrade pip' command.\u001b[0m\n"
     ]
    }
   ],
   "source": [
    "import sys\n",
    "!{sys.executable} -m pip install --user pypcd"
   ]
  },
  {
   "cell_type": "code",
   "execution_count": 1,
   "metadata": {},
   "outputs": [],
   "source": [
    "import pypcd\n",
    "import numpy as np\n",
    "\n",
    "import os\n",
    "os.chdir(\"/workspace/3D_People_Detection_Tracking\") "
   ]
  },
  {
   "cell_type": "code",
   "execution_count": 2,
   "metadata": {},
   "outputs": [
    {
     "ename": "ValueError",
     "evalue": "field '__0000' occurs more than once",
     "output_type": "error",
     "traceback": [
      "\u001b[0;31m---------------------------------------------------------------------------\u001b[0m",
      "\u001b[0;31mValueError\u001b[0m                                Traceback (most recent call last)",
      "\u001b[0;32m<ipython-input-2-94c291a77ae6>\u001b[0m in \u001b[0;36m<module>\u001b[0;34m()\u001b[0m\n\u001b[0;32m----> 1\u001b[0;31m \u001b[0mcloud\u001b[0m \u001b[0;34m=\u001b[0m \u001b[0mpypcd\u001b[0m\u001b[0;34m.\u001b[0m\u001b[0mPointCloud\u001b[0m\u001b[0;34m.\u001b[0m\u001b[0mfrom_path\u001b[0m\u001b[0;34m(\u001b[0m\u001b[0;34m'./sample/lobby.pcd'\u001b[0m\u001b[0;34m)\u001b[0m\u001b[0;34m\u001b[0m\u001b[0m\n\u001b[0m",
      "\u001b[0;32m/usr/local/lib/python2.7/dist-packages/pypcd/pypcd.pyc\u001b[0m in \u001b[0;36mfrom_path\u001b[0;34m(fname)\u001b[0m\n\u001b[1;32m    733\u001b[0m     \u001b[0;34m@\u001b[0m\u001b[0mstaticmethod\u001b[0m\u001b[0;34m\u001b[0m\u001b[0m\n\u001b[1;32m    734\u001b[0m     \u001b[0;32mdef\u001b[0m \u001b[0mfrom_path\u001b[0m\u001b[0;34m(\u001b[0m\u001b[0mfname\u001b[0m\u001b[0;34m)\u001b[0m\u001b[0;34m:\u001b[0m\u001b[0;34m\u001b[0m\u001b[0m\n\u001b[0;32m--> 735\u001b[0;31m         \u001b[0;32mreturn\u001b[0m \u001b[0mpoint_cloud_from_path\u001b[0m\u001b[0;34m(\u001b[0m\u001b[0mfname\u001b[0m\u001b[0;34m)\u001b[0m\u001b[0;34m\u001b[0m\u001b[0m\n\u001b[0m\u001b[1;32m    736\u001b[0m \u001b[0;34m\u001b[0m\u001b[0m\n\u001b[1;32m    737\u001b[0m     \u001b[0;34m@\u001b[0m\u001b[0mstaticmethod\u001b[0m\u001b[0;34m\u001b[0m\u001b[0m\n",
      "\u001b[0;32m/usr/local/lib/python2.7/dist-packages/pypcd/pypcd.pyc\u001b[0m in \u001b[0;36mpoint_cloud_from_path\u001b[0;34m(fname)\u001b[0m\n\u001b[1;32m    300\u001b[0m     \"\"\"\n\u001b[1;32m    301\u001b[0m     \u001b[0;32mwith\u001b[0m \u001b[0mopen\u001b[0m\u001b[0;34m(\u001b[0m\u001b[0mfname\u001b[0m\u001b[0;34m,\u001b[0m \u001b[0;34m'rb'\u001b[0m\u001b[0;34m)\u001b[0m \u001b[0;32mas\u001b[0m \u001b[0mf\u001b[0m\u001b[0;34m:\u001b[0m\u001b[0;34m\u001b[0m\u001b[0m\n\u001b[0;32m--> 302\u001b[0;31m         \u001b[0mpc\u001b[0m \u001b[0;34m=\u001b[0m \u001b[0mpoint_cloud_from_fileobj\u001b[0m\u001b[0;34m(\u001b[0m\u001b[0mf\u001b[0m\u001b[0;34m)\u001b[0m\u001b[0;34m\u001b[0m\u001b[0m\n\u001b[0m\u001b[1;32m    303\u001b[0m     \u001b[0;32mreturn\u001b[0m \u001b[0mpc\u001b[0m\u001b[0;34m\u001b[0m\u001b[0m\n\u001b[1;32m    304\u001b[0m \u001b[0;34m\u001b[0m\u001b[0m\n",
      "\u001b[0;32m/usr/local/lib/python2.7/dist-packages/pypcd/pypcd.pyc\u001b[0m in \u001b[0;36mpoint_cloud_from_fileobj\u001b[0;34m(f)\u001b[0m\n\u001b[1;32m    282\u001b[0m         \u001b[0;32mif\u001b[0m \u001b[0mln\u001b[0m\u001b[0;34m.\u001b[0m\u001b[0mstartswith\u001b[0m\u001b[0;34m(\u001b[0m\u001b[0;34m'DATA'\u001b[0m\u001b[0;34m)\u001b[0m\u001b[0;34m:\u001b[0m\u001b[0;34m\u001b[0m\u001b[0m\n\u001b[1;32m    283\u001b[0m             \u001b[0mmetadata\u001b[0m \u001b[0;34m=\u001b[0m \u001b[0mparse_header\u001b[0m\u001b[0;34m(\u001b[0m\u001b[0mheader\u001b[0m\u001b[0;34m)\u001b[0m\u001b[0;34m\u001b[0m\u001b[0m\n\u001b[0;32m--> 284\u001b[0;31m             \u001b[0mdtype\u001b[0m \u001b[0;34m=\u001b[0m \u001b[0m_build_dtype\u001b[0m\u001b[0;34m(\u001b[0m\u001b[0mmetadata\u001b[0m\u001b[0;34m)\u001b[0m\u001b[0;34m\u001b[0m\u001b[0m\n\u001b[0m\u001b[1;32m    285\u001b[0m             \u001b[0;32mbreak\u001b[0m\u001b[0;34m\u001b[0m\u001b[0m\n\u001b[1;32m    286\u001b[0m     \u001b[0;32mif\u001b[0m \u001b[0mmetadata\u001b[0m\u001b[0;34m[\u001b[0m\u001b[0;34m'data'\u001b[0m\u001b[0;34m]\u001b[0m \u001b[0;34m==\u001b[0m \u001b[0;34m'ascii'\u001b[0m\u001b[0;34m:\u001b[0m\u001b[0;34m\u001b[0m\u001b[0m\n",
      "\u001b[0;32m/usr/local/lib/python2.7/dist-packages/pypcd/pypcd.pyc\u001b[0m in \u001b[0;36m_build_dtype\u001b[0;34m(metadata)\u001b[0m\n\u001b[1;32m    208\u001b[0m             \u001b[0mfieldnames\u001b[0m\u001b[0;34m.\u001b[0m\u001b[0mextend\u001b[0m\u001b[0;34m(\u001b[0m\u001b[0;34m[\u001b[0m\u001b[0;34m'%s_%04d'\u001b[0m \u001b[0;34m%\u001b[0m \u001b[0;34m(\u001b[0m\u001b[0mf\u001b[0m\u001b[0;34m,\u001b[0m \u001b[0mi\u001b[0m\u001b[0;34m)\u001b[0m \u001b[0;32mfor\u001b[0m \u001b[0mi\u001b[0m \u001b[0;32min\u001b[0m \u001b[0mxrange\u001b[0m\u001b[0;34m(\u001b[0m\u001b[0mc\u001b[0m\u001b[0;34m)\u001b[0m\u001b[0;34m]\u001b[0m\u001b[0;34m)\u001b[0m\u001b[0;34m\u001b[0m\u001b[0m\n\u001b[1;32m    209\u001b[0m             \u001b[0mtypenames\u001b[0m\u001b[0;34m.\u001b[0m\u001b[0mextend\u001b[0m\u001b[0;34m(\u001b[0m\u001b[0;34m[\u001b[0m\u001b[0mnp_type\u001b[0m\u001b[0;34m]\u001b[0m\u001b[0;34m*\u001b[0m\u001b[0mc\u001b[0m\u001b[0;34m)\u001b[0m\u001b[0;34m\u001b[0m\u001b[0m\n\u001b[0;32m--> 210\u001b[0;31m     \u001b[0mdtype\u001b[0m \u001b[0;34m=\u001b[0m \u001b[0mnp\u001b[0m\u001b[0;34m.\u001b[0m\u001b[0mdtype\u001b[0m\u001b[0;34m(\u001b[0m\u001b[0mzip\u001b[0m\u001b[0;34m(\u001b[0m\u001b[0mfieldnames\u001b[0m\u001b[0;34m,\u001b[0m \u001b[0mtypenames\u001b[0m\u001b[0;34m)\u001b[0m\u001b[0;34m)\u001b[0m\u001b[0;34m\u001b[0m\u001b[0m\n\u001b[0m\u001b[1;32m    211\u001b[0m     \u001b[0;32mreturn\u001b[0m \u001b[0mdtype\u001b[0m\u001b[0;34m\u001b[0m\u001b[0m\n\u001b[1;32m    212\u001b[0m \u001b[0;34m\u001b[0m\u001b[0m\n",
      "\u001b[0;31mValueError\u001b[0m: field '__0000' occurs more than once"
     ]
    }
   ],
   "source": [
    "cloud = pypcd.PointCloud.from_path('./sample/lobby.pcd')"
   ]
  },
  {
   "cell_type": "code",
   "execution_count": 8,
   "metadata": {},
   "outputs": [
    {
     "name": "stdout",
     "output_type": "stream",
     "text": [
      "/workspace/3D_People_Detection_Tracking\r\n"
     ]
    }
   ],
   "source": [
    "./sample/lobby.pcd"
   ]
  },
  {
   "cell_type": "code",
   "execution_count": 13,
   "metadata": {},
   "outputs": [
    {
     "data": {
      "text/plain": [
       "{'count': [1, 1, 1, 1],\n",
       " 'data': 'ascii',\n",
       " 'fields': ['x', 'y', 'z', 'rgb'],\n",
       " 'height': 1,\n",
       " 'points': 2750,\n",
       " 'size': [4, 4, 4, 4],\n",
       " 'type': ['F', 'F', 'F', 'F'],\n",
       " 'version': '0.7',\n",
       " 'viewpoint': [0.0, 0.0, 0.0, 1.0, 0.0, 0.0, 0.0],\n",
       " 'width': 2750}"
      ]
     },
     "execution_count": 13,
     "metadata": {},
     "output_type": "execute_result"
    }
   ],
   "source": [
    "cloud.get_metadata()"
   ]
  },
  {
   "cell_type": "code",
   "execution_count": 14,
   "metadata": {},
   "outputs": [
    {
     "name": "stdout",
     "output_type": "stream",
     "text": [
      "[ 0.  0.  0. ...,  0.  0.  0.]\n"
     ]
    }
   ],
   "source": [
    "print(cloud.pc_data['rgb'])"
   ]
  },
  {
   "cell_type": "markdown",
   "metadata": {},
   "source": [
    "## array로 변경"
   ]
  },
  {
   "cell_type": "code",
   "execution_count": 15,
   "metadata": {},
   "outputs": [],
   "source": [
    "new_cloud_data = cloud.pc_data.copy()"
   ]
  },
  {
   "cell_type": "code",
   "execution_count": 16,
   "metadata": {},
   "outputs": [],
   "source": [
    "# we need numpy now\n",
    "import numpy as np\n",
    "\n",
    "# convert the structured numpy array to a ndarray\n",
    "new_cloud_data = cloud.pc_data.view(np.float32).reshape(cloud.pc_data.shape + (-1,))"
   ]
  },
  {
   "cell_type": "code",
   "execution_count": 17,
   "metadata": {},
   "outputs": [
    {
     "data": {
      "text/plain": [
       "2750"
      ]
     },
     "execution_count": 17,
     "metadata": {},
     "output_type": "execute_result"
    }
   ],
   "source": [
    "new_cloud_data.shape[0]"
   ]
  },
  {
   "cell_type": "code",
   "execution_count": 18,
   "metadata": {},
   "outputs": [
    {
     "data": {
      "text/plain": [
       "array([[  1.00166738,   5.48460579,  -1.49390364,   0.        ],\n",
       "       [  1.01868272,   5.46968126,  -1.49079776,   0.        ],\n",
       "       [  1.03777063,   5.46609163,  -1.49079776,   0.        ],\n",
       "       ..., \n",
       "       [ 18.39475441,  -6.8848362 ,  -1.71836269,   0.        ],\n",
       "       [ 18.24389076,  -6.90107012,  -1.70650947,   0.        ],\n",
       "       [ 18.23457718,  -6.97040224,  -1.70790386,   0.        ]], dtype=float32)"
      ]
     },
     "execution_count": 18,
     "metadata": {},
     "output_type": "execute_result"
    }
   ],
   "source": [
    "new_cloud_data"
   ]
  },
  {
   "cell_type": "code",
   "execution_count": 19,
   "metadata": {},
   "outputs": [],
   "source": [
    "import sys\n",
    "sys.path.append(\"/workspace/include\")\n",
    "import pcl_helper\n",
    "\n",
    "n_random_color = 20\n",
    "random_color = np.zeros(n_random_color,float)\n",
    "for i in range(0,new_cloud_data.shape[0]):\n",
    "    #labbels[0]\n",
    "    new_cloud_data[i,3:4] = pcl_helper.rgb_to_float(pcl_helper.random_color_gen())\n",
    "    \n"
   ]
  },
  {
   "cell_type": "code",
   "execution_count": 20,
   "metadata": {},
   "outputs": [
    {
     "data": {
      "text/plain": [
       "array([[  1.00166738,   5.48460579,  -1.49390364],\n",
       "       [  1.01868272,   5.46968126,  -1.49079776],\n",
       "       [  1.03777063,   5.46609163,  -1.49079776],\n",
       "       ..., \n",
       "       [ 18.39475441,  -6.8848362 ,  -1.71836269],\n",
       "       [ 18.24389076,  -6.90107012,  -1.70650947],\n",
       "       [ 18.23457718,  -6.97040224,  -1.70790386]], dtype=float32)"
      ]
     },
     "execution_count": 20,
     "metadata": {},
     "output_type": "execute_result"
    }
   ],
   "source": [
    "new_cloud_data[:,0:3]"
   ]
  },
  {
   "cell_type": "code",
   "execution_count": 21,
   "metadata": {},
   "outputs": [
    {
     "data": {
      "text/plain": [
       "array([[  1.00166738e+00,   5.48460579e+00,  -1.49390364e+00,\n",
       "          1.91391502e-38],\n",
       "       [  1.01868272e+00,   5.46968126e+00,  -1.49079776e+00,\n",
       "          2.06848245e-38],\n",
       "       [  1.03777063e+00,   5.46609163e+00,  -1.49079776e+00,\n",
       "          6.83871486e-39],\n",
       "       ..., \n",
       "       [  1.83947544e+01,  -6.88483620e+00,  -1.71836269e+00,\n",
       "          5.10465005e-40],\n",
       "       [  1.82438908e+01,  -6.90107012e+00,  -1.70650947e+00,\n",
       "          2.31961699e-39],\n",
       "       [  1.82345772e+01,  -6.97040224e+00,  -1.70790386e+00,\n",
       "          1.92780974e-39]], dtype=float32)"
      ]
     },
     "execution_count": 21,
     "metadata": {},
     "output_type": "execute_result"
    }
   ],
   "source": [
    "new_cloud_data"
   ]
  },
  {
   "cell_type": "markdown",
   "metadata": {},
   "source": [
    "## After decode Tool"
   ]
  },
  {
   "cell_type": "code",
   "execution_count": 22,
   "metadata": {},
   "outputs": [],
   "source": [
    "%matplotlib inline\n",
    "\n",
    "# Now visualize the points with matplotlib\n",
    "import matplotlib.pyplot as plt"
   ]
  },
  {
   "cell_type": "code",
   "execution_count": 23,
   "metadata": {},
   "outputs": [],
   "source": [
    "# split the rgb column into three columns: red, green and blue\n",
    "rgb_columns = pypcd.decode_rgb_from_pcl(cloud.pc_data['rgb'])\n",
    "\n",
    "# normalize the rgb values (they should be between [0, 1])\n",
    "rgb_columns = (rgb_columns / 255.0).astype(np.float)"
   ]
  },
  {
   "cell_type": "code",
   "execution_count": 24,
   "metadata": {},
   "outputs": [
    {
     "data": {
      "image/png": "[encoded data removed]",
      "text/plain": [
       "<matplotlib.figure.Figure at 0x7f41ec159890>"
      ]
     },
     "metadata": {},
     "output_type": "display_data"
    }
   ],
   "source": [
    "# Plot again with color\n",
    "plt.scatter(new_cloud_data[:, [0]], -new_cloud_data[:, [1]], color=rgb_columns)\n",
    "plt.axis('scaled');"
   ]
  },
  {
   "cell_type": "code",
   "execution_count": 25,
   "metadata": {},
   "outputs": [
    {
     "data": {
      "image/png": "[encoded data removed]",
      "text/plain": [
       "<matplotlib.figure.Figure at 0x7f41ec18cc90>"
      ]
     },
     "metadata": {},
     "output_type": "display_data"
    }
   ],
   "source": [
    "from mpl_toolkits.mplot3d import Axes3D\n",
    "\n",
    "# Create a figure with a subplot with three axes\n",
    "fig = plt.figure()\n",
    "ax = fig.add_subplot(111, projection='3d')\n",
    "\n",
    "ax.scatter(new_cloud_data[:,0], new_cloud_data[:,1], new_cloud_data[:,2], color=rgb_columns);"
   ]
  },
  {
   "cell_type": "code",
   "execution_count": 26,
   "metadata": {},
   "outputs": [
    {
     "data": {
      "text/plain": [
       "numpy.ndarray"
      ]
     },
     "execution_count": 26,
     "metadata": {},
     "output_type": "execute_result"
    }
   ],
   "source": [
    "type(rgb_columns)"
   ]
  },
  {
   "cell_type": "code",
   "execution_count": 27,
   "metadata": {},
   "outputs": [
    {
     "data": {
      "text/plain": [
       "(2750, 3)"
      ]
     },
     "execution_count": 27,
     "metadata": {},
     "output_type": "execute_result"
    }
   ],
   "source": [
    "rgb_columns.shape"
   ]
  },
  {
   "cell_type": "code",
   "execution_count": 28,
   "metadata": {},
   "outputs": [
    {
     "data": {
      "text/plain": [
       "dtype('float64')"
      ]
     },
     "execution_count": 28,
     "metadata": {},
     "output_type": "execute_result"
    }
   ],
   "source": [
    "rgb_columns.dtype"
   ]
  },
  {
   "cell_type": "code",
   "execution_count": 29,
   "metadata": {},
   "outputs": [
    {
     "data": {
      "text/plain": [
       "array([[ 0.81568627,  0.40784314,  0.16470588],\n",
       "       [ 0.88235294,  0.23529412,  0.87843137],\n",
       "       [ 0.29019608,  0.46666667,  0.55686275],\n",
       "       ..., \n",
       "       [ 0.01960784,  0.55686275,  0.97254902],\n",
       "       [ 0.09803922,  0.25882353,  0.14901961],\n",
       "       [ 0.07843137,  0.99215686,  0.95294118]])"
      ]
     },
     "execution_count": 29,
     "metadata": {},
     "output_type": "execute_result"
    }
   ],
   "source": [
    "rgb_columns"
   ]
  },
  {
   "cell_type": "markdown",
   "metadata": {},
   "source": [
    "# without decode Tool"
   ]
  },
  {
   "cell_type": "code",
   "execution_count": null,
   "metadata": {},
   "outputs": [],
   "source": []
  },
  {
   "cell_type": "code",
   "execution_count": 30,
   "metadata": {},
   "outputs": [],
   "source": [
    "rgb_columns1 = np.asarray(pcl_helper.random_color_gen())\n"
   ]
  },
  {
   "cell_type": "code",
   "execution_count": 31,
   "metadata": {},
   "outputs": [
    {
     "data": {
      "text/plain": [
       "numpy.ndarray"
      ]
     },
     "execution_count": 31,
     "metadata": {},
     "output_type": "execute_result"
    }
   ],
   "source": [
    "type(rgb_columns1)"
   ]
  },
  {
   "cell_type": "code",
   "execution_count": 32,
   "metadata": {},
   "outputs": [],
   "source": [
    "rgb_columns1 = (rgb_columns1 / 255.0).astype(np.float)"
   ]
  },
  {
   "cell_type": "code",
   "execution_count": 33,
   "metadata": {},
   "outputs": [
    {
     "data": {
      "image/png": "[encoded data removed]",
      "text/plain": [
       "<matplotlib.figure.Figure at 0x7f41ec0e0510>"
      ]
     },
     "metadata": {},
     "output_type": "display_data"
    }
   ],
   "source": [
    "from mpl_toolkits.mplot3d import Axes3D\n",
    "\n",
    "# Create a figure with a subplot with three axes\n",
    "fig = plt.figure()\n",
    "ax = fig.add_subplot(111, projection='3d')\n",
    "\n",
    "ax.scatter(new_cloud_data[:,0], new_cloud_data[:,1], new_cloud_data[:,2], color=rgb_columns1);"
   ]
  },
  {
   "cell_type": "code",
   "execution_count": null,
   "metadata": {},
   "outputs": [],
   "source": []
  },
  {
   "cell_type": "code",
   "execution_count": 34,
   "metadata": {},
   "outputs": [
    {
     "data": {
      "text/plain": [
       "array([  1.00166738,   1.01868272,   1.03777063, ...,  18.39475441,\n",
       "        18.24389076,  18.23457718], dtype=float32)"
      ]
     },
     "execution_count": 34,
     "metadata": {},
     "output_type": "execute_result"
    }
   ],
   "source": [
    "new_cloud_data[:,0]"
   ]
  },
  {
   "cell_type": "code",
   "execution_count": null,
   "metadata": {},
   "outputs": [],
   "source": []
  },
  {
   "cell_type": "code",
   "execution_count": null,
   "metadata": {},
   "outputs": [],
   "source": []
  },
  {
   "cell_type": "code",
   "execution_count": 35,
   "metadata": {},
   "outputs": [
    {
     "data": {
      "text/plain": [
       "array([[ 0.81568627,  0.40784314,  0.16470588],\n",
       "       [ 0.88235294,  0.23529412,  0.87843137],\n",
       "       [ 0.29019608,  0.46666667,  0.55686275],\n",
       "       ..., \n",
       "       [ 0.01960784,  0.55686275,  0.97254902],\n",
       "       [ 0.09803922,  0.25882353,  0.14901961],\n",
       "       [ 0.07843137,  0.99215686,  0.95294118]])"
      ]
     },
     "execution_count": 35,
     "metadata": {},
     "output_type": "execute_result"
    }
   ],
   "source": [
    "rgb_columns"
   ]
  },
  {
   "cell_type": "code",
   "execution_count": 36,
   "metadata": {},
   "outputs": [
    {
     "name": "stdout",
     "output_type": "stream",
     "text": [
      "[[  1.91391502e-38   2.06848245e-38   6.83871486e-39   1.80425767e-38\n",
      "    2.00014266e-38   2.20729788e-38   1.46291790e-38   1.87544321e-38\n",
      "    7.10961388e-39   5.17087962e-39   1.88927753e-38   8.62621118e-39\n",
      "    1.74704910e-38   8.19271249e-39   1.48454610e-38   2.20485345e-38\n",
      "    6.35897192e-39   3.21686980e-39   1.27655263e-38   1.59758577e-38\n",
      "    2.24054873e-39   2.12435880e-38   9.59862263e-39   1.64438717e-38\n",
      "    2.14944611e-39   2.20090781e-38   1.72197553e-38   1.82830199e-38\n",
      "    1.33351051e-38   1.54079913e-39   1.32759885e-38   1.71286190e-38\n",
      "    8.82327438e-39   1.80263455e-39   2.21174868e-38   1.66724557e-38\n",
      "    1.54759823e-39   1.31544511e-38   1.47332997e-38   2.08111109e-38\n",
      "    2.03578525e-38   2.20660633e-38   1.09654996e-38   1.43230289e-38\n",
      "    1.60405935e-39   1.42220444e-38   1.13297994e-38   1.36603143e-38\n",
      "    2.30696046e-38   9.44780228e-39   1.64677541e-38   1.88774325e-38\n",
      "    2.19971461e-38   5.13602792e-39   9.96597582e-39   8.00565316e-39\n",
      "    4.61137057e-39   3.29052905e-41   2.21679882e-38   1.32062487e-38\n",
      "    6.86011268e-39   2.01598350e-38   6.88236811e-39   1.77541306e-38\n",
      "    1.75465619e-38   2.22309836e-38   1.17961473e-38   2.32099615e-38\n",
      "    5.39106704e-39   4.45478387e-40   2.77276188e-39   1.46311408e-38\n",
      "    2.36616252e-39   1.48855816e-38   2.09603001e-38   2.00806715e-38\n",
      "    1.00414680e-38   1.57212025e-38   2.14299103e-38   1.02275408e-38\n",
      "    1.99090320e-39   3.09113409e-39   7.85733553e-39   1.48913606e-38\n",
      "    1.15186664e-38   1.34572297e-39   1.20232179e-38   1.62091893e-38\n",
      "    6.66108486e-39   1.89147771e-38   2.08793625e-38   2.33037854e-38\n",
      "    1.30877213e-38   2.35087842e-38   2.24140632e-38   5.56645216e-39\n",
      "    3.06441553e-40   1.48294372e-38   8.36631235e-40   3.40540750e-39]]\n"
     ]
    }
   ],
   "source": [
    "# And print some sample form the rgb column\n",
    "print(new_cloud_data[:100, [3]]).reshape(1, -1)"
   ]
  },
  {
   "cell_type": "code",
   "execution_count": null,
   "metadata": {},
   "outputs": [],
   "source": []
  },
  {
   "cell_type": "code",
   "execution_count": null,
   "metadata": {},
   "outputs": [],
   "source": []
  },
  {
   "cell_type": "code",
   "execution_count": null,
   "metadata": {},
   "outputs": [],
   "source": []
  },
  {
   "cell_type": "code",
   "execution_count": null,
   "metadata": {},
   "outputs": [],
   "source": []
  },
  {
   "cell_type": "code",
   "execution_count": null,
   "metadata": {},
   "outputs": [],
   "source": []
  },
  {
   "cell_type": "markdown",
   "metadata": {},
   "source": [
    "## 2D 시각화"
   ]
  },
  {
   "cell_type": "code",
   "execution_count": null,
   "metadata": {},
   "outputs": [],
   "source": []
  },
  {
   "cell_type": "code",
   "execution_count": null,
   "metadata": {},
   "outputs": [],
   "source": []
  }
 ],
 "metadata": {
  "kernelspec": {
   "display_name": "Python 2",
   "language": "python",
   "name": "python2"
  },
  "language_info": {
   "codemirror_mode": {
    "name": "ipython",
    "version": 2
   },
   "file_extension": ".py",
   "mimetype": "text/x-python",
   "name": "python",
   "nbconvert_exporter": "python",
   "pygments_lexer": "ipython2",
   "version": "2.7.12"
  },
  "toc": {
   "base_numbering": 1,
   "nav_menu": {},
   "number_sections": true,
   "sideBar": true,
   "skip_h1_title": false,
   "title_cell": "Table of Contents",
   "title_sidebar": "Contents",
   "toc_cell": false,
   "toc_position": {},
   "toc_section_display": true,
   "toc_window_display": false
  },
  "varInspector": {
   "cols": {
    "lenName": 16,
    "lenType": 16,
    "lenVar": 40
   },
   "kernels_config": {
    "python": {
     "delete_cmd_postfix": "",
     "delete_cmd_prefix": "del ",
     "library": "var_list.py",
     "varRefreshCmd": "print(var_dic_list())"
    },
    "r": {
     "delete_cmd_postfix": ") ",
     "delete_cmd_prefix": "rm(",
     "library": "var_list.r",
     "varRefreshCmd": "cat(var_dic_list()) "
    }
   },
   "types_to_exclude": [
    "module",
    "function",
    "builtin_function_or_method",
    "instance",
    "_Feature"
   ],
   "window_display": false
  }
 },
 "nbformat": 4,
 "nbformat_minor": 2
}
