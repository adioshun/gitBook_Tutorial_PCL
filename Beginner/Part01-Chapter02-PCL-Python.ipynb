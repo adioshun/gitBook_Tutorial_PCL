{
 "cells": [
  {
   "cell_type": "markdown",
   "metadata": {},
   "source": [
    "## Voxelization \n",
    "\n",
    "본 챕터에서는 다운샘플링 기법중 하나인 voxelizattion 방법에 대하여 다루고 있습니다. \n",
    "\n",
    "3D velxel Grid는 `Point의 집합`로 이루어진 대상을 `Voxel의 집합`으로 표현하는 것을 의미합니다. \n",
    "\n",
    "> 복셀(voxel) : 3차원 공간에서 정규 격자 단위의 값을 나타낸다. 복셀이라는 용어는 부피 (volume)와 픽셀 (pixel)을 조합한 혼성어 [[wikipedia]](https://ko.wikipedia.org/wiki/%EB%B3%B5%EC%85%80)\n",
    "\n",
    "자세한 내용은 [Downsampling a PointCloud using a VoxelGrid filter](http://pointclouds.org/documentation/tutorials/voxel_grid.php#voxelgrid)를 참고 하시면 됩니다.  \n"
   ]
  },
  {
   "cell_type": "code",
   "execution_count": 20,
   "metadata": {},
   "outputs": [
    {
     "name": "stdout",
     "output_type": "stream",
     "text": [
      "The watermark extension is already loaded. To reload it, use:\n",
      "  %reload_ext watermark\n",
      "2018-11-23 \n",
      "\n",
      "CPython 3.5.2\n",
      "IPython 6.4.0\n",
      "\n",
      "pcl unknown\n",
      "numpy 1.14.5\n"
     ]
    }
   ],
   "source": [
    "%load_ext watermark\n",
    "%watermark -d -v -p pcl,numpy"
   ]
  },
  {
   "cell_type": "code",
   "execution_count": 28,
   "metadata": {},
   "outputs": [],
   "source": [
    "# -*- coding: utf-8 -*-\n",
    "from __future__ import print_function\n",
    "import pcl\n",
    "import numpy as np\n",
    "\n",
    "import os\n",
    "os.chdir(\"/workspace/3D_People_Detection_Tracking\") "
   ]
  },
  {
   "cell_type": "markdown",
   "metadata": {},
   "source": [
    "## Voxelization 정의\n",
    "\n",
    "입력 \n",
    "- pcl_data : point cloud\n",
    "- leaf_size : Vox 크기\n",
    "\n",
    "출력  \n",
    "- voxelized point cloud"
   ]
  },
  {
   "cell_type": "code",
   "execution_count": 30,
   "metadata": {},
   "outputs": [],
   "source": [
    "def do_voxel_grid_downssampling(pcl_data,leaf_size):\n",
    "    '''\n",
    "    Create a VoxelGrid filter object for a input point cloud\n",
    "    :param pcl_data: point cloud data subscriber\n",
    "    :param leaf_size: voxel(or leaf) size\n",
    "    :return: Voxel grid downsampling on point cloud\n",
    "    :https://github.com/fouliex/RoboticPerception\n",
    "    '''\n",
    "    vox = pcl_data.make_voxel_grid_filter()\n",
    "    vox.set_leaf_size(leaf_size, leaf_size, leaf_size) # The bigger the leaf size the less information retained\n",
    "    return  vox.filter()"
   ]
  },
  {
   "cell_type": "markdown",
   "metadata": {},
   "source": [
    "## PCD 파일 읽기"
   ]
  },
  {
   "cell_type": "code",
   "execution_count": 31,
   "metadata": {},
   "outputs": [
    {
     "name": "stdout",
     "output_type": "stream",
     "text": [
      "<PointCloud of 19329 points>\n"
     ]
    }
   ],
   "source": [
    "cloud = pcl.load(\"./sample/lobby.pcd\") # Deprecated; use pcl.load instead.\n",
    "print(cloud)"
   ]
  },
  {
   "cell_type": "markdown",
   "metadata": {},
   "source": [
    "## Voxelization 수행"
   ]
  },
  {
   "cell_type": "code",
   "execution_count": 24,
   "metadata": {},
   "outputs": [
    {
     "name": "stdout",
     "output_type": "stream",
     "text": [
      "<PointCloud of 19329 points>\n"
     ]
    }
   ],
   "source": [
    "LEAF_SIZE = 0.01 #RGB-D센서의 경우 0.01 추천, Lidar의 경우 좀더 큰값 추천 \n",
    "cloud = do_voxel_grid_downssampling(cloud,LEAF_SIZE)\n",
    "print(cloud)"
   ]
  },
  {
   "cell_type": "code",
   "execution_count": 25,
   "metadata": {},
   "outputs": [
    {
     "name": "stdout",
     "output_type": "stream",
     "text": [
      "<PointCloud of 9413 points>\n"
     ]
    }
   ],
   "source": [
    "LEAF_SIZE = 0.1 #RGB-D센서의 경우 0.01 추천, Lidar의 경우 좀더 큰값 추천 \n",
    "cloud = do_voxel_grid_downssampling(cloud,LEAF_SIZE)\n",
    "print(cloud)"
   ]
  },
  {
   "cell_type": "code",
   "execution_count": 26,
   "metadata": {},
   "outputs": [
    {
     "name": "stdout",
     "output_type": "stream",
     "text": [
      "<PointCloud of 1171 points>\n"
     ]
    }
   ],
   "source": [
    "LEAF_SIZE = 1.0 #RGB-D센서의 경우 0.01 추천, Lidar의 경우 좀더 큰값 추천 \n",
    "cloud = do_voxel_grid_downssampling(cloud,LEAF_SIZE)\n",
    "print(cloud)"
   ]
  },
  {
   "cell_type": "code",
   "execution_count": null,
   "metadata": {},
   "outputs": [],
   "source": []
  }
 ],
 "metadata": {
  "kernelspec": {
   "display_name": "Python 2",
   "language": "python",
   "name": "python2"
  },
  "language_info": {
   "codemirror_mode": {
    "name": "ipython",
    "version": 3
   },
   "file_extension": ".py",
   "mimetype": "text/x-python",
   "name": "python",
   "nbconvert_exporter": "python",
   "pygments_lexer": "ipython3",
   "version": "3.5.2"
  }
 },
 "nbformat": 4,
 "nbformat_minor": 2
}
