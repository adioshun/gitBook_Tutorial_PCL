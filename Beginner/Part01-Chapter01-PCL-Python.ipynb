{
 "cells": [
  {
   "cell_type": "markdown",
   "metadata": {},
   "source": [
    "## Python-PCL\n",
    "- 본 챕터에서는 PCL의 Python버젼인 [Python-PCL](http://strawlab.github.io/python-pcl/)의 기본적인 파일 입력, Numpy변환, 저장 방법에 대하여 정리 하였습니다. "
   ]
  },
  {
   "cell_type": "code",
   "execution_count": 1,
   "metadata": {},
   "outputs": [
    {
     "name": "stdout",
     "output_type": "stream",
     "text": [
      "2018-11-22 \n",
      "\n",
      "CPython 2.7.12\n",
      "IPython 5.8.0\n",
      "\n",
      "pcl unknown\n",
      "numpy 1.15.4\n"
     ]
    }
   ],
   "source": [
    "%load_ext watermark\n",
    "%watermark -d -v -p pcl,numpy"
   ]
  },
  {
   "cell_type": "code",
   "execution_count": 1,
   "metadata": {},
   "outputs": [],
   "source": [
    "import pcl\n",
    "import numpy as np\n",
    "\n",
    "import os\n",
    "os.chdir(\"/workspace/3D_People_Detection_Tracking\") "
   ]
  },
  {
   "cell_type": "markdown",
   "metadata": {},
   "source": [
    "## Point cloud 생성"
   ]
  },
  {
   "cell_type": "markdown",
   "metadata": {},
   "source": [
    "### 배열로 생성"
   ]
  },
  {
   "cell_type": "code",
   "execution_count": 3,
   "metadata": {},
   "outputs": [
    {
     "name": "stdout",
     "output_type": "stream",
     "text": [
      "[[1. 2. 3.]\n",
      " [3. 4. 5.]]\n"
     ]
    }
   ],
   "source": [
    "pc_array = np.array([[1, 2, 3], [3, 4, 5]], dtype=np.float32)\n",
    "print(pc_array)"
   ]
  },
  {
   "cell_type": "code",
   "execution_count": 4,
   "metadata": {},
   "outputs": [
    {
     "name": "stdout",
     "output_type": "stream",
     "text": [
      "<PointCloud of 2 points>\n"
     ]
    }
   ],
   "source": [
    "#방법 1\n",
    "pc = pcl.PointCloud(pc_array)\n",
    "print(pc)"
   ]
  },
  {
   "cell_type": "code",
   "execution_count": 5,
   "metadata": {},
   "outputs": [
    {
     "name": "stdout",
     "output_type": "stream",
     "text": [
      "<PointCloud of 2 points>\n"
     ]
    }
   ],
   "source": [
    "#방법 2\n",
    "pc = pcl.PointCloud()\n",
    "pc.from_array(pc_array)\n",
    "print(pc)"
   ]
  },
  {
   "cell_type": "markdown",
   "metadata": {},
   "source": [
    "### PCD 파일 읽기"
   ]
  },
  {
   "cell_type": "code",
   "execution_count": 8,
   "metadata": {},
   "outputs": [
    {
     "name": "stdout",
     "output_type": "stream",
     "text": [
      "<PointCloud of 19329 points>\n"
     ]
    }
   ],
   "source": [
    "pc = pcl.load(\"./sample/lobby.pcd\") # \"pc.from_file\" Deprecated\n",
    "print(pc)"
   ]
  },
  {
   "cell_type": "markdown",
   "metadata": {},
   "source": [
    "## 정보 확인"
   ]
  },
  {
   "cell_type": "code",
   "execution_count": 8,
   "metadata": {},
   "outputs": [
    {
     "name": "stdout",
     "output_type": "stream",
     "text": [
      "포인트 수 : 19329\n"
     ]
    }
   ],
   "source": [
    "print(\"포인트 수 : {}\".format(pc.size))"
   ]
  },
  {
   "cell_type": "code",
   "execution_count": 10,
   "metadata": {},
   "outputs": [
    {
     "name": "stdout",
     "output_type": "stream",
     "text": [
      "Loaded 19329 data points from test_pcd.pcd with the following fields: \n",
      "x: 5.55542087555, y : 0.753095984459, z : -1.50218582153\n",
      "x: 36.1922683716, y : 4.89982938766, z : 0.637501478195\n",
      "x: 6.65287637711, y : 0.899506211281, z : -1.54991281033\n",
      "x: 23.4230003357, y : 3.16274738312, z : 1.23868751526\n",
      "x: 8.19875049591, y : 1.1070561409, z : -1.60813832283\n",
      "x: 23.224275589, y : 3.13178706169, z : 2.05025148392\n",
      "x: 10.7360458374, y : 1.44585025311, z : -1.71577334404\n",
      "x: 23.258348465, y : 3.12811613083, z : 2.88147902489\n",
      "x: 15.3596839905, y : 2.06306147575, z : -1.90286803246\n",
      "x: 32.7645950317, y : 4.38918924332, z : 6.42568445206\n"
     ]
    }
   ],
   "source": [
    "print ('Loaded ' + str(pc.width * pc.height) + ' data points from test_pcd.pcd with the following fields: ')\n",
    "\n",
    "for i in range(0, 10):#pc.size):\n",
    "    print ('x: ' + str(pc[i][0]) + ', y : ' + str(pc[i][1]) + ', z : ' + str(pc[i][2]))\n"
   ]
  },
  {
   "cell_type": "markdown",
   "metadata": {},
   "source": [
    "## Numpy로 변환 \n",
    "\n",
    "- 추후 군집화, 분류, 전처리를 위해서 일반적으로 Numpy로 변환 하여 작업을 수행 "
   ]
  },
  {
   "cell_type": "code",
   "execution_count": 11,
   "metadata": {},
   "outputs": [
    {
     "name": "stdout",
     "output_type": "stream",
     "text": [
      "pc Type : <type 'pcl._pcl.PointCloud'>\n",
      "pc_array Type : <type 'numpy.ndarray'>\n"
     ]
    }
   ],
   "source": [
    "pc_array = pc.to_array()\n",
    "print(\"pc Type : {}\".format(type(pc)))\n",
    "print(\"pc_array Type : {}\".format(type(pc_array)))"
   ]
  },
  {
   "cell_type": "markdown",
   "metadata": {},
   "source": [
    "### Numpy 기반 정보 출력"
   ]
  },
  {
   "cell_type": "code",
   "execution_count": 12,
   "metadata": {},
   "outputs": [
    {
     "name": "stdout",
     "output_type": "stream",
     "text": [
      "pc_array shape : (19329, 3)\n",
      "pc_array size : 57987\n",
      "pc_array ndim : 2\n",
      "pc_array dtype : float32\n",
      "pc_array nbytes : 231948 bytes\n"
     ]
    }
   ],
   "source": [
    "print(\"pc_array shape : {}\".format(pc_array.shape))\n",
    "print(\"pc_array size : {}\".format(pc_array.size))\n",
    "print(\"pc_array ndim : {}\".format(pc_array.ndim))\n",
    "print(\"pc_array dtype : {}\".format(pc_array.dtype))\n",
    "print(\"pc_array nbytes : {} bytes\".format(pc_array.nbytes))"
   ]
  },
  {
   "cell_type": "markdown",
   "metadata": {},
   "source": [
    "## pcd로 저장 "
   ]
  },
  {
   "cell_type": "markdown",
   "metadata": {},
   "source": [
    "### point cloud를 pcd로 저장"
   ]
  },
  {
   "cell_type": "code",
   "execution_count": 13,
   "metadata": {},
   "outputs": [],
   "source": [
    "# 방법 1\n",
    "pcl.save(pc, 'pc2pcd.pcd') \n",
    "#pcl.save_XYZRGBA(pc, 'pc2pcd.pcd') #RGB-D센서에서 주로 사용, x,y,z좌표 이외 색상 정보 포함 "
   ]
  },
  {
   "cell_type": "code",
   "execution_count": 14,
   "metadata": {},
   "outputs": [
    {
     "data": {
      "text/plain": [
       "0"
      ]
     },
     "execution_count": 14,
     "metadata": {},
     "output_type": "execute_result"
    }
   ],
   "source": [
    "# 방법 2\n",
    "pc.to_file('pc2pcd.pcd')"
   ]
  },
  {
   "cell_type": "markdown",
   "metadata": {},
   "source": [
    "### numpy를 pcd로 저장"
   ]
  },
  {
   "cell_type": "code",
   "execution_count": 15,
   "metadata": {},
   "outputs": [
    {
     "data": {
      "text/plain": [
       "0"
      ]
     },
     "execution_count": 15,
     "metadata": {},
     "output_type": "execute_result"
    }
   ],
   "source": [
    "pc_new = pcl.PointCloud()\n",
    "pc_new.from_array(pc_array)\n",
    "pc_new.to_file('pc2pcd.pcd')"
   ]
  }
 ],
 "metadata": {
  "kernelspec": {
   "display_name": "Python 2",
   "language": "python",
   "name": "python2"
  },
  "language_info": {
   "codemirror_mode": {
    "name": "ipython",
    "version": 3
   },
   "file_extension": ".py",
   "mimetype": "text/x-python",
   "name": "python",
   "nbconvert_exporter": "python",
   "pygments_lexer": "ipython3",
   "version": "3.6.7"
  },
  "toc": {
   "base_numbering": 1,
   "nav_menu": {},
   "number_sections": true,
   "sideBar": true,
   "skip_h1_title": false,
   "title_cell": "Table of Contents",
   "title_sidebar": "Contents",
   "toc_cell": false,
   "toc_position": {},
   "toc_section_display": true,
   "toc_window_display": false
  },
  "varInspector": {
   "cols": {
    "lenName": 16,
    "lenType": 16,
    "lenVar": 40
   },
   "kernels_config": {
    "python": {
     "delete_cmd_postfix": "",
     "delete_cmd_prefix": "del ",
     "library": "var_list.py",
     "varRefreshCmd": "print(var_dic_list())"
    },
    "r": {
     "delete_cmd_postfix": ") ",
     "delete_cmd_prefix": "rm(",
     "library": "var_list.r",
     "varRefreshCmd": "cat(var_dic_list()) "
    }
   },
   "types_to_exclude": [
    "module",
    "function",
    "builtin_function_or_method",
    "instance",
    "_Feature"
   ],
   "window_display": false
  }
 },
 "nbformat": 4,
 "nbformat_minor": 2
}
