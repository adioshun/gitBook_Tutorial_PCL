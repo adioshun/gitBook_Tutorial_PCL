{
 "cells": [
  {
   "cell_type": "markdown",
   "metadata": {},
   "source": [
    "## Open3D \n",
    "- 본 챕터에서는 [Open3D](http://www.open3d.org/) 기본적인 파일 입력, Numpy변환, 저장 방법에 대하여 정리 하였습니다. "
   ]
  },
  {
   "cell_type": "code",
   "execution_count": 1,
   "metadata": {},
   "outputs": [
    {
     "name": "stdout",
     "output_type": "stream",
     "text": [
      "2018-11-22 \n",
      "\n",
      "CPython 2.7.12\n",
      "IPython 5.8.0\n",
      "\n",
      "numpy 1.15.4\n"
     ]
    }
   ],
   "source": [
    "%load_ext watermark\n",
    "%watermark -d -v -p numpy"
   ]
  },
  {
   "cell_type": "code",
   "execution_count": 2,
   "metadata": {},
   "outputs": [
    {
     "name": "stdout",
     "output_type": "stream",
     "text": [
      "Open3D Version : 0.4.0.0\n"
     ]
    }
   ],
   "source": [
    "import open3d\n",
    "import numpy as np\n",
    "\n",
    "import os\n",
    "os.chdir(\"/workspace/3D_People_Detection_Tracking\") \n",
    "print(\"Open3D Version : {}\".format(open3d.__version__))"
   ]
  },
  {
   "cell_type": "markdown",
   "metadata": {},
   "source": [
    "## Point cloud 생성"
   ]
  },
  {
   "cell_type": "markdown",
   "metadata": {},
   "source": [
    "### 배열로 생성"
   ]
  },
  {
   "cell_type": "code",
   "execution_count": 3,
   "metadata": {},
   "outputs": [
    {
     "name": "stdout",
     "output_type": "stream",
     "text": [
      "[[1. 2. 3.]\n",
      " [3. 4. 5.]]\n"
     ]
    }
   ],
   "source": [
    "pc_array = np.array([[1, 2, 3], [3, 4, 5]], dtype=np.float32)\n",
    "print(pc_array)"
   ]
  },
  {
   "cell_type": "code",
   "execution_count": 4,
   "metadata": {},
   "outputs": [
    {
     "name": "stdout",
     "output_type": "stream",
     "text": [
      "PointCloud with 2 points.\n"
     ]
    }
   ],
   "source": [
    "pc = open3d.PointCloud()\n",
    "pc.points = open3d.Vector3dVector(pc_array)\n",
    "print(pc)"
   ]
  },
  {
   "cell_type": "markdown",
   "metadata": {},
   "source": [
    "### PCD 파일 읽기"
   ]
  },
  {
   "cell_type": "code",
   "execution_count": 5,
   "metadata": {},
   "outputs": [
    {
     "name": "stdout",
     "output_type": "stream",
     "text": [
      "PointCloud with 19329 points.\n"
     ]
    }
   ],
   "source": [
    "pc = open3d.read_point_cloud(\"./sample/lobby.pcd\") \n",
    "print(pc)"
   ]
  },
  {
   "cell_type": "markdown",
   "metadata": {},
   "source": [
    "### txt 파일 읽기"
   ]
  },
  {
   "cell_type": "code",
   "execution_count": 6,
   "metadata": {},
   "outputs": [
    {
     "name": "stdout",
     "output_type": "stream",
     "text": [
      "0.0000000000 0.0000000000 0.0000000000\r\n",
      "1.0000000000 0.0000000000 0.0000000000\r\n",
      "0.0000000000 1.0000000000 0.0000000000\r\n",
      "0.0000000000 0.0000000000 1.0000000000\r\n"
     ]
    }
   ],
   "source": [
    "!cat ./sample/open3d_xyz.txt"
   ]
  },
  {
   "cell_type": "code",
   "execution_count": 9,
   "metadata": {},
   "outputs": [
    {
     "data": {
      "text/plain": [
       "PointCloud with 4 points."
      ]
     },
     "execution_count": 9,
     "metadata": {},
     "output_type": "execute_result"
    }
   ],
   "source": [
    "open3d.read_point_cloud(\"./sample/open3d_xyz.txt\", format='xyz')"
   ]
  },
  {
   "cell_type": "markdown",
   "metadata": {},
   "source": [
    "## 정보 확인"
   ]
  },
  {
   "cell_type": "code",
   "execution_count": 10,
   "metadata": {},
   "outputs": [
    {
     "name": "stdout",
     "output_type": "stream",
     "text": [
      "포인트 수 : <bound method PointCloud.dimension of PointCloud with 19329 points.>\n"
     ]
    }
   ],
   "source": [
    "print(\"포인트 수 : {}\".format(pc.dimension))"
   ]
  },
  {
   "cell_type": "code",
   "execution_count": 11,
   "metadata": {},
   "outputs": [
    {
     "name": "stdout",
     "output_type": "stream",
     "text": [
      "x: 5.555420875549316, y : 0.7530959844589233, z : -1.5021858215332031\n",
      "x: 36.19226837158203, y : 4.899829387664795, z : 0.6375014781951904\n",
      "x: 6.652876377105713, y : 0.8995062112808228, z : -1.5499128103256226\n",
      "x: 23.42300033569336, y : 3.162747383117676, z : 1.238687515258789\n",
      "x: 8.198750495910645, y : 1.1070561408996582, z : -1.6081383228302002\n",
      "x: 23.224275588989258, y : 3.131787061691284, z : 2.0502514839172363\n",
      "x: 10.736045837402344, y : 1.4458502531051636, z : -1.715773344039917\n",
      "x: 23.25834846496582, y : 3.1281161308288574, z : 2.881479024887085\n",
      "x: 15.359683990478516, y : 2.063061475753784, z : -1.9028680324554443\n",
      "x: 32.76459503173828, y : 4.38918924331665, z : 6.425684452056885\n"
     ]
    }
   ],
   "source": [
    "#print ('Loaded ' + str(pc.width * pc.height) + ' data points from test_pcd.pcd with the following fields: ')\n",
    "\n",
    "for i in range(0, 10):\n",
    "    print ('x: ' + str(pc.points[i][0]) + ', y : ' + str(pc.points[i][1]) + ', z : ' + str(pc.points[i][2]))\n"
   ]
  },
  {
   "cell_type": "markdown",
   "metadata": {},
   "source": [
    "## Numpy로 변환 \n",
    "\n",
    "- 추후 군집화, 분류, 전처리를 위해서 일반적으로 Numpy로 변환 하여 작업을 수행 "
   ]
  },
  {
   "cell_type": "code",
   "execution_count": 12,
   "metadata": {},
   "outputs": [
    {
     "name": "stdout",
     "output_type": "stream",
     "text": [
      "pc Type : <class 'open3d.open3d.PointCloud'>\n",
      "pc_array Type : <type 'numpy.ndarray'>\n"
     ]
    }
   ],
   "source": [
    "pc_array = np.asarray(pc.points)\n",
    "print(\"pc Type : {}\".format(type(pc)))\n",
    "print(\"pc_array Type : {}\".format(type(pc_array)))"
   ]
  },
  {
   "cell_type": "markdown",
   "metadata": {},
   "source": [
    "### Numpy 기반 정보 출력"
   ]
  },
  {
   "cell_type": "code",
   "execution_count": 13,
   "metadata": {},
   "outputs": [
    {
     "name": "stdout",
     "output_type": "stream",
     "text": [
      "pc_array shape : (19329, 3)\n",
      "pc_array size : 57987\n",
      "pc_array ndim : 2\n",
      "pc_array dtype : float64\n",
      "pc_array nbytes : 463896 bytes\n"
     ]
    }
   ],
   "source": [
    "print(\"pc_array shape : {}\".format(pc_array.shape))\n",
    "print(\"pc_array size : {}\".format(pc_array.size))\n",
    "print(\"pc_array ndim : {}\".format(pc_array.ndim))\n",
    "print(\"pc_array dtype : {}\".format(pc_array.dtype))\n",
    "print(\"pc_array nbytes : {} bytes\".format(pc_array.nbytes))"
   ]
  },
  {
   "cell_type": "markdown",
   "metadata": {},
   "source": [
    "## pcd로 저장 "
   ]
  },
  {
   "cell_type": "markdown",
   "metadata": {},
   "source": [
    "### point cloud를 pcd로 저장"
   ]
  },
  {
   "cell_type": "code",
   "execution_count": 14,
   "metadata": {},
   "outputs": [
    {
     "data": {
      "text/plain": [
       "True"
      ]
     },
     "execution_count": 14,
     "metadata": {},
     "output_type": "execute_result"
    }
   ],
   "source": [
    "open3d.write_point_cloud(\"pc2pcd.pcd\", pc)\n",
    "#The supported extension names are: pcd, ply, xyz, xyzrgb, xyzn, pts."
   ]
  },
  {
   "cell_type": "markdown",
   "metadata": {},
   "source": [
    "### numpy를 pcd로 저장"
   ]
  },
  {
   "cell_type": "code",
   "execution_count": 15,
   "metadata": {},
   "outputs": [
    {
     "data": {
      "text/plain": [
       "True"
      ]
     },
     "execution_count": 15,
     "metadata": {},
     "output_type": "execute_result"
    }
   ],
   "source": [
    "pc_new = open3d.PointCloud()\n",
    "pc_new.points = open3d.Vector3dVector(pc_array)\n",
    "open3d.write_point_cloud(\"pc2pcd.pcd\", pc_new)"
   ]
  }
 ],
 "metadata": {
  "kernelspec": {
   "display_name": "Python 2",
   "language": "python",
   "name": "python2"
  },
  "language_info": {
   "codemirror_mode": {
    "name": "ipython",
    "version": 3
   },
   "file_extension": ".py",
   "mimetype": "text/x-python",
   "name": "python",
   "nbconvert_exporter": "python",
   "pygments_lexer": "ipython3",
   "version": "3.5.2"
  },
  "toc": {
   "base_numbering": 1,
   "nav_menu": {},
   "number_sections": true,
   "sideBar": true,
   "skip_h1_title": false,
   "title_cell": "Table of Contents",
   "title_sidebar": "Contents",
   "toc_cell": false,
   "toc_position": {},
   "toc_section_display": true,
   "toc_window_display": false
  },
  "varInspector": {
   "cols": {
    "lenName": 16,
    "lenType": 16,
    "lenVar": 40
   },
   "kernels_config": {
    "python": {
     "delete_cmd_postfix": "",
     "delete_cmd_prefix": "del ",
     "library": "var_list.py",
     "varRefreshCmd": "print(var_dic_list())"
    },
    "r": {
     "delete_cmd_postfix": ") ",
     "delete_cmd_prefix": "rm(",
     "library": "var_list.r",
     "varRefreshCmd": "cat(var_dic_list()) "
    }
   },
   "types_to_exclude": [
    "module",
    "function",
    "builtin_function_or_method",
    "instance",
    "_Feature"
   ],
   "window_display": false
  }
 },
 "nbformat": 4,
 "nbformat_minor": 2
}
