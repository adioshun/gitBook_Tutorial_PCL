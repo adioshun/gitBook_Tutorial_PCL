{
 "cells": [
  {
   "cell_type": "markdown",
   "metadata": {},
   "source": [
    "# PCL-Python 기반 Normal Estimation"
   ]
  },
  {
   "cell_type": "code",
   "execution_count": 8,
   "metadata": {},
   "outputs": [],
   "source": [
    "import pcl\n",
    "\n",
    "def get_normals(cloud_path):\n",
    "    \"\"\"\n",
    "    The actual *compute* call from the NormalEstimation class does nothing internally but:\n",
    "    for each point p in cloud P\n",
    "        1. get the nearest neighbors of p\n",
    "        2. compute the surface normal n of p\n",
    "        3. check if n is consistently oriented towards the viewpoint and flip otherwise\n",
    "\n",
    "    # normals: pcl._pcl.PointCloud_Normal,size: 26475\n",
    "    # cloud: pcl._pcl.PointCloud\n",
    "    \"\"\"\n",
    "    cloud = pcl.load(cloud_path)\n",
    "    \n",
    "    feature = cloud.make_NormalEstimation()\n",
    "    #feature.set_RadiusSearch(0.1) #Use all neighbors in a sphere of radius 3cm\n",
    "    \n",
    "    feature.set_KSearch(3)\n",
    "    normals = feature.compute()\n",
    "    \n",
    "    return normals"
   ]
  },
  {
   "cell_type": "code",
   "execution_count": 9,
   "metadata": {},
   "outputs": [],
   "source": [
    "normals=get_normals('tabletop.pcd')"
   ]
  },
  {
   "cell_type": "code",
   "execution_count": 10,
   "metadata": {},
   "outputs": [
    {
     "name": "stdout",
     "output_type": "stream",
     "text": [
      "normal_x: 0.19359613955, normal_y : 0.742476344109, normal_z : 0.641287267208\n",
      "normal_x: 0.19359613955, normal_y : 0.742476344109, normal_z : 0.641287267208\n",
      "normal_x: 0.0, normal_y : 0.327951073647, normal_z : -0.944694817066\n",
      "normal_x: -0.0556097365916, normal_y : -0.298579514027, normal_z : -0.952763259411\n",
      "normal_x: -0.0264745149761, normal_y : -0.464837819338, normal_z : -0.884999930859\n"
     ]
    }
   ],
   "source": [
    "for i in range(0, 5):#range(0, normals.size):\n",
    "    print ('normal_x: ' + str(normals[i][0]) + ', normal_y : ' + str(normals[i][1]) + ', normal_z : ' + str(normals[i][2]))"
   ]
  },
  {
   "cell_type": "code",
   "execution_count": 11,
   "metadata": {},
   "outputs": [],
   "source": [
    "import numpy as np\n",
    "\n",
    "def compute_normal_histograms(normal_cloud, nbins=32, nrange=(-1,1)):\n",
    "    '''\n",
    "    Computes and bins the point-cloud data using the objects distribution of surface normals.\n",
    "    :param: normal_cloud, point cloud containing the filtered clusters.\n",
    "    :param: nbins,number of bins that data will be pooled into.\n",
    "    :param: nrange, value range of the data to be pooled.\n",
    "    :return: the normalised histogram of surface normals\n",
    "    '''\n",
    "    norm_x_vals = []\n",
    "    norm_y_vals = []\n",
    "    norm_z_vals = []\n",
    "\n",
    "    for I in range(0,normal_cloud.size):\n",
    "        norm_x_vals.append(normal_cloud[I][0])\n",
    "        norm_y_vals.append(normal_cloud[I][1])\n",
    "        norm_z_vals.append(normal_cloud[I][2])\n",
    "\n",
    "    # Compute histograms of normal values (just like with color)\n",
    "    norm_x_hist = np.histogram(norm_x_vals, bins=nbins, range=nrange)\n",
    "    norm_y_hist = np.histogram(norm_y_vals, bins=nbins, range=nrange)\n",
    "    norm_z_hist = np.histogram(norm_z_vals, bins=nbins, range=nrange) \n",
    "\n",
    "    # Concatenate and normalize the histograms\n",
    "    hist_features = np.concatenate((norm_x_hist[0], norm_y_hist[0], norm_z_hist[0])).astype(np.float64)\n",
    "    normed_features = hist_features / np.sum(hist_features)\n",
    "\n",
    "    return normed_features"
   ]
  },
  {
   "cell_type": "code",
   "execution_count": 12,
   "metadata": {},
   "outputs": [],
   "source": [
    "normed_features=compute_normal_histograms(normals)"
   ]
  },
  {
   "cell_type": "code",
   "execution_count": 13,
   "metadata": {},
   "outputs": [],
   "source": [
    "import matplotlib.pyplot as plt\n",
    "\n",
    "def plot_normals(normed_features,nbins):\n",
    "    plt.hist(normed_features, nbins)\n",
    "    plt.xlabel('Weight (kg)', fontsize = 14)\n",
    "    plt.xticks(fontsize = 14)\n",
    "    plt.yticks(fontsize = 14)\n",
    "    plt.show()"
   ]
  },
  {
   "cell_type": "code",
   "execution_count": 14,
   "metadata": {},
   "outputs": [
    {
     "data": {
      "image/png": "[encoded data removed]",
      "text/plain": [
       "<matplotlib.figure.Figure at 0x7f432e9fd310>"
      ]
     },
     "metadata": {
      "needs_background": "light"
     },
     "output_type": "display_data"
    }
   ],
   "source": [
    "plot_normals(normed_features,32)"
   ]
  }
 ],
 "metadata": {
  "kernelspec": {
   "display_name": "Python 2",
   "language": "python",
   "name": "python2"
  },
  "language_info": {
   "codemirror_mode": {
    "name": "ipython",
    "version": 2
   },
   "file_extension": ".py",
   "mimetype": "text/x-python",
   "name": "python",
   "nbconvert_exporter": "python",
   "pygments_lexer": "ipython2",
   "version": "2.7.15rc1"
  }
 },
 "nbformat": 4,
 "nbformat_minor": 2
}
