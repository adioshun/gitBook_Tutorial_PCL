{
 "cells": [
  {
   "cell_type": "markdown",
   "metadata": {},
   "source": [
    "# [K3D Jupyter](https://github.com/K3D-tools/K3D-jupyter)\n",
    "\n",
    "\n",
    "설치 방법 \n",
    "\n",
    "```\n",
    "$ pip install k3d\n",
    "$ jupyter nbextension install --py --sys-prefix k3d\n",
    "$ jupyter nbextension enable --py --sys-prefix k3d\n",
    "```"
   ]
  },
  {
   "cell_type": "markdown",
   "metadata": {},
   "source": [
    "## 1. PCD파일 읽어 표현하기"
   ]
  },
  {
   "cell_type": "code",
   "execution_count": 48,
   "metadata": {},
   "outputs": [],
   "source": [
    "import pcl\n",
    "import k3d\n",
    "import numpy as np"
   ]
  },
  {
   "cell_type": "code",
   "execution_count": 39,
   "metadata": {},
   "outputs": [],
   "source": [
    "pc = pcl.load(\"sample_sec.pcd\")\n",
    "pa = pc.to_array()"
   ]
  },
  {
   "cell_type": "code",
   "execution_count": 55,
   "metadata": {},
   "outputs": [
    {
     "data": {
      "application/vnd.jupyter.widget-view+json": {
       "model_id": "ba787ed7bcc7442281c73d7dd232b580",
       "version_major": 2,
       "version_minor": 0
      },
      "text/html": [
       "<p>Failed to display Jupyter Widget of type <code>Output</code>.</p>\n",
       "<p>\n",
       "  If you're reading this message in the Jupyter Notebook or JupyterLab Notebook, it may mean\n",
       "  that the widgets JavaScript is still loading. If this message persists, it\n",
       "  likely means that the widgets JavaScript library is either not installed or\n",
       "  not enabled. See the <a href=\"https://ipywidgets.readthedocs.io/en/stable/user_install.html\">Jupyter\n",
       "  Widgets Documentation</a> for setup instructions.\n",
       "</p>\n",
       "<p>\n",
       "  If you're reading this message in another frontend (for example, a static\n",
       "  rendering on GitHub or <a href=\"https://nbviewer.jupyter.org/\">NBViewer</a>),\n",
       "  it may mean that your frontend doesn't currently support widgets.\n",
       "</p>\n"
      ],
      "text/plain": [
       "Output()"
      ]
     },
     "metadata": {},
     "output_type": "display_data"
    }
   ],
   "source": [
    "plot = k3d.plot()\n",
    "\n",
    "points_number = pa.shape[0]\n",
    "colors = numpy.random.randint(0, 0xFFFFFF, points_number)\n",
    "\n",
    "points = k3d.points(pa, colors, point_size=0.01, shader='3d')\n",
    "plot += points\n",
    "plot.camera_auto_fit = False\n",
    "plot.display()"
   ]
  },
  {
   "cell_type": "markdown",
   "metadata": {},
   "source": [
    "## 2. 이미지로 저장하기 (Screen shot)"
   ]
  },
  {
   "cell_type": "code",
   "execution_count": 50,
   "metadata": {},
   "outputs": [],
   "source": [
    "plot.fetch_screenshot()"
   ]
  },
  {
   "cell_type": "code",
   "execution_count": 51,
   "metadata": {},
   "outputs": [
    {
     "data": {
      "text/html": [
       "<img src=\"screenshot.png\"/>"
      ],
      "text/plain": [
       "<IPython.core.display.Image object>"
      ]
     },
     "execution_count": 51,
     "metadata": {},
     "output_type": "execute_result"
    }
   ],
   "source": [
    "from IPython.display import Image\n",
    "with open('screenshot.png', 'wb') as f:\n",
    "    try:\n",
    "        out = plot.screenshot.decode('base64')\n",
    "    except: # Python 3\n",
    "        from base64 import b64decode\n",
    "        out = b64decode(plot.screenshot)    \n",
    "    f.write(out)\n",
    "    \n",
    "Image(url='screenshot.png')"
   ]
  },
  {
   "cell_type": "markdown",
   "metadata": {},
   "source": [
    "---\n",
    "\n",
    "## [참고] k3d의 추가 기능"
   ]
  },
  {
   "cell_type": "markdown",
   "metadata": {},
   "source": [
    "## Text 입력하기"
   ]
  },
  {
   "cell_type": "code",
   "execution_count": 57,
   "metadata": {},
   "outputs": [
    {
     "data": {
      "application/vnd.jupyter.widget-view+json": {
       "model_id": "86d06e81b63e4e8e8d3c254759d83227",
       "version_major": 2,
       "version_minor": 0
      },
      "text/html": [
       "<p>Failed to display Jupyter Widget of type <code>Output</code>.</p>\n",
       "<p>\n",
       "  If you're reading this message in the Jupyter Notebook or JupyterLab Notebook, it may mean\n",
       "  that the widgets JavaScript is still loading. If this message persists, it\n",
       "  likely means that the widgets JavaScript library is either not installed or\n",
       "  not enabled. See the <a href=\"https://ipywidgets.readthedocs.io/en/stable/user_install.html\">Jupyter\n",
       "  Widgets Documentation</a> for setup instructions.\n",
       "</p>\n",
       "<p>\n",
       "  If you're reading this message in another frontend (for example, a static\n",
       "  rendering on GitHub or <a href=\"https://nbviewer.jupyter.org/\">NBViewer</a>),\n",
       "  it may mean that your frontend doesn't currently support widgets.\n",
       "</p>\n"
      ],
      "text/plain": [
       "Output()"
      ]
     },
     "metadata": {},
     "output_type": "display_data"
    }
   ],
   "source": [
    "import k3d\n",
    "\n",
    "plot = k3d.plot()\n",
    "plot += k3d.text('\\\\int_{-\\\\infty}^\\\\infty \\\\hat f(\\\\xi)\\\\,e^{2 \\\\pi i \\\\xi x} \\\\,d\\\\xi', [0,0,0], color=0, size=1.5, reference_point='lt')\n",
    "plot += k3d.text('{(1,1,\\\\frac{5}{\\\\pi})}', [0,0,0], color=0, size=1.5, reference_point='rb')\n",
    "plot.display()"
   ]
  },
  {
   "cell_type": "code",
   "execution_count": 59,
   "metadata": {},
   "outputs": [
    {
     "data": {
      "application/vnd.jupyter.widget-view+json": {
       "model_id": "15fa4e67030e4d89a40e118b01d29afd",
       "version_major": 2,
       "version_minor": 0
      },
      "text/html": [
       "<p>Failed to display Jupyter Widget of type <code>Output</code>.</p>\n",
       "<p>\n",
       "  If you're reading this message in the Jupyter Notebook or JupyterLab Notebook, it may mean\n",
       "  that the widgets JavaScript is still loading. If this message persists, it\n",
       "  likely means that the widgets JavaScript library is either not installed or\n",
       "  not enabled. See the <a href=\"https://ipywidgets.readthedocs.io/en/stable/user_install.html\">Jupyter\n",
       "  Widgets Documentation</a> for setup instructions.\n",
       "</p>\n",
       "<p>\n",
       "  If you're reading this message in another frontend (for example, a static\n",
       "  rendering on GitHub or <a href=\"https://nbviewer.jupyter.org/\">NBViewer</a>),\n",
       "  it may mean that your frontend doesn't currently support widgets.\n",
       "</p>\n"
      ],
      "text/plain": [
       "Output()"
      ]
     },
     "metadata": {},
     "output_type": "display_data"
    }
   ],
   "source": [
    "import k3d\n",
    "\n",
    "plot = k3d.plot()\n",
    "plot += k3d.text2d('\\\\int_{-\\\\infty}^\\\\infty \\\\hat f(\\\\xi)\\\\,e^{2 \\\\pi i \\\\xi x} \\\\,d\\\\xi', [0.75,0.5], color=0, size=1.5, reference_point='lt')\n",
    "plot += k3d.text2d('{(1,1,\\\\frac{5}{\\\\pi})}', [0.25, 0.5], color=0, size=1.5, reference_point='rb')\n",
    "plot.display()"
   ]
  },
  {
   "cell_type": "markdown",
   "metadata": {},
   "source": [
    "## 에니메이션 효과"
   ]
  },
  {
   "cell_type": "code",
   "execution_count": 65,
   "metadata": {},
   "outputs": [
    {
     "data": {
      "application/vnd.jupyter.widget-view+json": {
       "model_id": "ab3cfbe5e8cc48e08b116c147e10bef8",
       "version_major": 2,
       "version_minor": 0
      },
      "text/html": [
       "<p>Failed to display Jupyter Widget of type <code>Output</code>.</p>\n",
       "<p>\n",
       "  If you're reading this message in the Jupyter Notebook or JupyterLab Notebook, it may mean\n",
       "  that the widgets JavaScript is still loading. If this message persists, it\n",
       "  likely means that the widgets JavaScript library is either not installed or\n",
       "  not enabled. See the <a href=\"https://ipywidgets.readthedocs.io/en/stable/user_install.html\">Jupyter\n",
       "  Widgets Documentation</a> for setup instructions.\n",
       "</p>\n",
       "<p>\n",
       "  If you're reading this message in another frontend (for example, a static\n",
       "  rendering on GitHub or <a href=\"https://nbviewer.jupyter.org/\">NBViewer</a>),\n",
       "  it may mean that your frontend doesn't currently support widgets.\n",
       "</p>\n"
      ],
      "text/plain": [
       "Output()"
      ]
     },
     "metadata": {},
     "output_type": "display_data"
    }
   ],
   "source": [
    "import k3d\n",
    "import numpy as np\n",
    "import time \n",
    "\n",
    "plot = k3d.plot()\n",
    "\n",
    "Nx,Ny = 10,10\n",
    "\n",
    "x = np.linspace(-1,1,Nx)\n",
    "y = np.linspace(-2,2,Ny)\n",
    "\n",
    "x,y = np.meshgrid(x,y)\n",
    "z = np.zeros_like(x)\n",
    "\n",
    "origins = np.vstack([x.flatten(),y.flatten(),z.flatten()]).T\n",
    "vectors = 0.5*(np.vstack([np.zeros_like(x.flatten()),np.zeros_like(x.flatten()),np.ones_like(x.flatten())] )).T\n",
    "phi0 = np.linspace(0,2*np.pi,vectors.shape[0])\n",
    "labels = [str(i) for i in range(vectors.shape[0])]\n",
    "vector_plot = k3d.vectors(origins, vectors)\n",
    "\n",
    "plot += vector_plot\n",
    "plot.camera_auto_fit = False\n",
    "plot.grid_auto_fit = False\n",
    "plot.display()"
   ]
  },
  {
   "cell_type": "code",
   "execution_count": 66,
   "metadata": {},
   "outputs": [],
   "source": [
    "for phi in np.linspace(0,2*np.pi,55):\n",
    "    r = 0.1  \n",
    "    v = vector_plot.vectors.copy()\n",
    "    v[:,0] += r*np.cos(phi+phi0)\n",
    "    v[:,1] += r*np.sin(phi+phi0)\n",
    "    vector_plot.vectors = v\n",
    "    time.sleep(0.05) # have to wait for real data update"
   ]
  },
  {
   "cell_type": "markdown",
   "metadata": {},
   "source": [
    "## voxel_callback"
   ]
  },
  {
   "cell_type": "code",
   "execution_count": 12,
   "metadata": {},
   "outputs": [
    {
     "ename": "ImportError",
     "evalue": "No module named skimage.measure",
     "output_type": "error",
     "traceback": [
      "\u001b[0;31m---------------------------------------------------------------------------\u001b[0m",
      "\u001b[0;31mImportError\u001b[0m                               Traceback (most recent call last)",
      "\u001b[0;32m<ipython-input-12-499aebf0f100>\u001b[0m in \u001b[0;36m<module>\u001b[0;34m()\u001b[0m\n\u001b[1;32m      2\u001b[0m \u001b[0;32mimport\u001b[0m \u001b[0mnumpy\u001b[0m \u001b[0;32mas\u001b[0m \u001b[0mnp\u001b[0m\u001b[0;34m\u001b[0m\u001b[0m\n\u001b[1;32m      3\u001b[0m \u001b[0;32mfrom\u001b[0m \u001b[0mmath\u001b[0m \u001b[0;32mimport\u001b[0m \u001b[0msqrt\u001b[0m\u001b[0;34m,\u001b[0m \u001b[0msin\u001b[0m\u001b[0;34m,\u001b[0m \u001b[0mcos\u001b[0m\u001b[0;34m\u001b[0m\u001b[0m\n\u001b[0;32m----> 4\u001b[0;31m \u001b[0;32mfrom\u001b[0m \u001b[0mskimage\u001b[0m\u001b[0;34m.\u001b[0m\u001b[0mmeasure\u001b[0m \u001b[0;32mimport\u001b[0m \u001b[0mlabel\u001b[0m\u001b[0;34m\u001b[0m\u001b[0m\n\u001b[0m\u001b[1;32m      5\u001b[0m \u001b[0;34m\u001b[0m\u001b[0m\n\u001b[1;32m      6\u001b[0m \u001b[0mwidth\u001b[0m \u001b[0;34m=\u001b[0m \u001b[0mheight\u001b[0m \u001b[0;34m=\u001b[0m \u001b[0mlength\u001b[0m \u001b[0;34m=\u001b[0m \u001b[0;36m100\u001b[0m\u001b[0;34m\u001b[0m\u001b[0m\n",
      "\u001b[0;31mImportError\u001b[0m: No module named skimage.measure"
     ]
    }
   ],
   "source": [
    "import k3d\n",
    "import numpy as np\n",
    "from math import sqrt, sin, cos\n",
    "from skimage.measure import label\n",
    "\n",
    "width = height = length = 100\n",
    "\n",
    "def r(x, y, z):\n",
    "    r = sqrt((x - width / 2) * (x - width / 2) + (y - height / 2) * (y - height / 2) + (z - length / 2) * (z - length / 2))\n",
    "    r += sin(x / 2) * 3\n",
    "    r += cos(y / 10) * 5\n",
    "    \n",
    "    return r\n",
    "\n",
    "def f(x, y, z):\n",
    "    return 0 if r(x, y, z) > width / 2 else (1 if y + sin(x / 20) * 10 > height / 2 else 2)\n",
    "\n",
    "def on_click(x, y, z):\n",
    "    coords = [x, y, z]\n",
    "    missing = None\n",
    "    missing_count = 0\n",
    "    \n",
    "    for idx, v in enumerate([np.array([0,0,1]), np.array([0,1,0]), np.array([1,0,0])]):\n",
    "        axis = coords[idx]        \n",
    "        \n",
    "        if axis == 0 or (obj.voxels[tuple(np.array([z, y, x]) - v)] == 0):\n",
    "            missing = -v\n",
    "            missing_count += 1\n",
    "\n",
    "        if axis == obj.voxels.shape[2 - idx] - 1 or obj.voxels[tuple(np.array([z, y, x]) + v)] == 0:\n",
    "            missing = v\n",
    "            missing_count += 1 \n",
    "    \n",
    "    if missing_count == 1:        \n",
    "        if missing[0] != 0:\n",
    "            slice = obj.voxels[z, :, :]\n",
    "            mask = label(slice, connectivity = 2)            \n",
    "            slice[mask == mask[y, x]] = plot.voxel_paint_color\n",
    "        if missing[1] != 0:\n",
    "            slice = obj.voxels[:, y, :]\n",
    "            mask = label(slice, connectivity = 2)\n",
    "            slice[mask == mask[z, x]] = plot.voxel_paint_color\n",
    "        if missing[2] != 0:\n",
    "            slice = obj.voxels[:, :, x]\n",
    "            mask = label(slice, connectivity = 2)\n",
    "            slice[mask == mask[z, y]] = plot.voxel_paint_color\n",
    "            \n",
    "        obj.push_data('voxels')\n",
    "        \n",
    "color_map = (0xffff00, 0xff0000, 0x00ff00)\n",
    "voxels = np.array([[[f(x, y, z) for x in range(width)] for y in range(height)] for z in range(length)])\n",
    "\n",
    "obj = k3d.voxels(voxels, color_map)\n",
    "plot = k3d.plot()\n",
    "plot += obj\n",
    "\n",
    "obj.click_callback = on_click\n",
    "plot.voxel_paint_color = 3\n",
    "plot.camera_auto_fit = False"
   ]
  },
  {
   "cell_type": "code",
   "execution_count": null,
   "metadata": {},
   "outputs": [],
   "source": [
    "# select Controls->Mode->Callback and click on object wall\n",
    "plot.display()"
   ]
  }
 ],
 "metadata": {
  "kernelspec": {
   "display_name": "Python 2",
   "language": "python",
   "name": "python2"
  },
  "language_info": {
   "codemirror_mode": {
    "name": "ipython",
    "version": 2
   },
   "file_extension": ".py",
   "mimetype": "text/x-python",
   "name": "python",
   "nbconvert_exporter": "python",
   "pygments_lexer": "ipython2",
   "version": "2.7.12"
  }
 },
 "nbformat": 4,
 "nbformat_minor": 2
}
